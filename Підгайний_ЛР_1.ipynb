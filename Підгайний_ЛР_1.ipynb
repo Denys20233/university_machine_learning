{
  "nbformat": 4,
  "nbformat_minor": 0,
  "metadata": {
    "colab": {
      "provenance": [],
      "include_colab_link": true
    },
    "kernelspec": {
      "name": "python3",
      "display_name": "Python 3"
    },
    "language_info": {
      "name": "python"
    }
  },
  "cells": [
    {
      "cell_type": "markdown",
      "metadata": {
        "id": "view-in-github",
        "colab_type": "text"
      },
      "source": [
        "<a href=\"https://colab.research.google.com/github/Denys20233/university_machine_learning/blob/main/%D0%9F%D1%96%D0%B4%D0%B3%D0%B0%D0%B8%CC%86%D0%BD%D0%B8%D0%B8%CC%86_%D0%9B%D0%A0_1.ipynb\" target=\"_parent\"><img src=\"https://colab.research.google.com/assets/colab-badge.svg\" alt=\"Open In Colab\"/></a>"
      ]
    },
    {
      "cell_type": "code",
      "source": [
        "import numpy as np"
      ],
      "metadata": {
        "id": "Ku4V97OS7uE6"
      },
      "execution_count": null,
      "outputs": []
    },
    {
      "cell_type": "markdown",
      "source": [
        "## **Варіант 15**"
      ],
      "metadata": {
        "id": "tQDjOr-h7Lm2"
      }
    },
    {
      "cell_type": "markdown",
      "source": [
        "### Завдання 1"
      ],
      "metadata": {
        "id": "3I8Lk5yjCGM7"
      }
    },
    {
      "cell_type": "markdown",
      "source": [
        "15. Створіть одновимірний масив (вектор) з простими числами, не перевищуючи 70, та\n",
        "виведіть його значення."
      ],
      "metadata": {
        "id": "6lDuAPZE7YKj"
      }
    },
    {
      "cell_type": "code",
      "source": [
        "vector = np.arange(1, 71)\n",
        "\n",
        "print(\"Вектор чисел, які не перевищують 70:\")\n",
        "print(vector)"
      ],
      "metadata": {
        "colab": {
          "base_uri": "https://localhost:8080/"
        },
        "id": "sRCJ32R47GJ3",
        "outputId": "454b3cc1-69ed-420a-a524-348fd2137703"
      },
      "execution_count": null,
      "outputs": [
        {
          "output_type": "stream",
          "name": "stdout",
          "text": [
            "Вектор чисел, які не перевищують 70:\n",
            "[ 1  2  3  4  5  6  7  8  9 10 11 12 13 14 15 16 17 18 19 20 21 22 23 24\n",
            " 25 26 27 28 29 30 31 32 33 34 35 36 37 38 39 40 41 42 43 44 45 46 47 48\n",
            " 49 50 51 52 53 54 55 56 57 58 59 60 61 62 63 64 65 66 67 68 69 70]\n"
          ]
        }
      ]
    },
    {
      "cell_type": "markdown",
      "source": [
        "### Завдання 2"
      ],
      "metadata": {
        "id": "_Y52GtYrCrHl"
      }
    },
    {
      "cell_type": "markdown",
      "source": [
        "15. Створіть двовимірний масив (матрицю) розміром 3x3, заповніть його значеннями\n",
        "квадратів перших натуральних чисел."
      ],
      "metadata": {
        "id": "5KGLlLn98yYF"
      }
    },
    {
      "cell_type": "code",
      "source": [
        "s = [i**2 for i in range(1, 10)]\n",
        "a = np.array(s).reshape(3, 3)\n",
        "\n",
        "print(\"Матриця 3x3 з квадратів перших натуральних чисел:\")\n",
        "print(a)"
      ],
      "metadata": {
        "colab": {
          "base_uri": "https://localhost:8080/"
        },
        "id": "NadEKCTh7zxm",
        "outputId": "669e1e02-2e41-4654-d896-27cab2c60594"
      },
      "execution_count": null,
      "outputs": [
        {
          "output_type": "stream",
          "name": "stdout",
          "text": [
            "Матриця 3x3 з квадратів перших натуральних чисел:\n",
            "[[ 1  4  9]\n",
            " [16 25 36]\n",
            " [49 64 81]]\n"
          ]
        }
      ]
    },
    {
      "cell_type": "markdown",
      "source": [
        "### Завдання 3"
      ],
      "metadata": {
        "id": "MGr91QH9Ejam"
      }
    },
    {
      "cell_type": "markdown",
      "source": [
        "15. Створіть масив розміром 5x5, заповніть його випадковими цілими числами від -10 до\n",
        "10 та знайдіть максимальний елемент."
      ],
      "metadata": {
        "id": "lO86bQnN9Btd"
      }
    },
    {
      "cell_type": "code",
      "source": [
        "a = np.random.randint(-10, 11, size=(5, 5))\n",
        "\n",
        "print(\"Матриця:\")\n",
        "print(a)\n",
        "\n",
        "max_value = np.max(a)\n",
        "print(\"\\nМаксимальний елемент матриці:\", max_value)"
      ],
      "metadata": {
        "colab": {
          "base_uri": "https://localhost:8080/"
        },
        "id": "ddzXhevSFXMs",
        "outputId": "c9c9085a-e98e-41e5-eff9-b068435a0997"
      },
      "execution_count": null,
      "outputs": [
        {
          "output_type": "stream",
          "name": "stdout",
          "text": [
            "Матриця:\n",
            "[[ -3  -6  -2   6   8]\n",
            " [  1   6   8  -2   6]\n",
            " [ -6  -7   3   1   5]\n",
            " [  4   9  -2   6 -10]\n",
            " [ -9   2  -9   0   1]]\n",
            "\n",
            "Максимальний елемент матриці: 9\n"
          ]
        }
      ]
    },
    {
      "cell_type": "markdown",
      "source": [
        "### Завдання 4"
      ],
      "metadata": {
        "id": "Rch4geRJEjrs"
      }
    },
    {
      "cell_type": "markdown",
      "source": [
        "15. Створіть масив розміром 4x4, заповніть його випадковими дійсними числами в\n",
        "діапазоні від 0 до 1 та знайдіть вектор-рядок, що містить максимальні елементи в\n",
        "кожному стовпці."
      ],
      "metadata": {
        "id": "RbVnEgSV9Bla"
      }
    },
    {
      "cell_type": "code",
      "source": [
        "a = np.random.rand(4, 4)\n",
        "\n",
        "print(\"Матриця:\")\n",
        "print(a)\n",
        "\n",
        "max_in_columns = np.max(a, axis=0)\n",
        "\n",
        "print(\"\\nВектор-рядок з максимальними елементами кожного стовпця:\")\n",
        "print(max_in_columns)"
      ],
      "metadata": {
        "colab": {
          "base_uri": "https://localhost:8080/"
        },
        "id": "gvbUbVBwJ7v1",
        "outputId": "aa747e90-a20e-45ca-9063-a1e5711f9d4c"
      },
      "execution_count": null,
      "outputs": [
        {
          "output_type": "stream",
          "name": "stdout",
          "text": [
            "Матриця:\n",
            "[[0.08805118 0.24133035 0.04382389 0.58978963]\n",
            " [0.82069279 0.24071248 0.0147757  0.76511564]\n",
            " [0.4400784  0.67192661 0.78526533 0.18554373]\n",
            " [0.80329352 0.28650229 0.9347969  0.06219488]]\n",
            "\n",
            "Вектор-рядок з максимальними елементами кожного стовпця:\n",
            "[0.82069279 0.67192661 0.9347969  0.76511564]\n"
          ]
        }
      ]
    },
    {
      "cell_type": "markdown",
      "source": [
        "### Завдання 5"
      ],
      "metadata": {
        "id": "ah1CddJuEj3w"
      }
    },
    {
      "cell_type": "markdown",
      "source": [
        "15. Створіть два одновимірних масиви розміром 7, заповніть їх випадковими цілими\n",
        "числами в діапазоні від -10 до 10 та виконайте на них поелементні операції додавання,\n",
        "віднімання та множення."
      ],
      "metadata": {
        "id": "wxOKwtPY9BcY"
      }
    },
    {
      "cell_type": "code",
      "source": [
        "arr1 = np.random.randint(-10, 11, 7)\n",
        "arr2 = np.random.randint(-10, 11, 7)\n",
        "\n",
        "add = arr1 + arr2\n",
        "subt = arr1 - arr2\n",
        "mul = arr1 * arr2\n",
        "\n",
        "print(\"Масив 1:\", arr1)\n",
        "print(\"Масив 2:\", arr2)\n",
        "print(\"Додавання:\", add)\n",
        "print(\"Віднімання:\", subt)\n",
        "print(\"Множення:\", mul)"
      ],
      "metadata": {
        "colab": {
          "base_uri": "https://localhost:8080/"
        },
        "id": "ZHg0mHlAKT0s",
        "outputId": "58e856a9-1e54-44a6-8acb-8e8036d5b235"
      },
      "execution_count": null,
      "outputs": [
        {
          "output_type": "stream",
          "name": "stdout",
          "text": [
            "Масив 1: [  3   6 -10   1   7   9   0]\n",
            "Масив 2: [ 8 -3  6  3 -1  8  0]\n",
            "Додавання: [11  3 -4  4  6 17  0]\n",
            "Віднімання: [ -5   9 -16  -2   8   1   0]\n",
            "Множення: [ 24 -18 -60   3  -7  72   0]\n"
          ]
        }
      ]
    },
    {
      "cell_type": "markdown",
      "source": [
        "### Завдання 6"
      ],
      "metadata": {
        "id": "8kPDlKQqEkAQ"
      }
    },
    {
      "cell_type": "markdown",
      "source": [
        "15. Створіть дві матриці 4x4, заповніть їх довільними цілими числами від -10 до 10 та\n",
        "знайдіть їх добуток."
      ],
      "metadata": {
        "id": "G50lpN8O9BTl"
      }
    },
    {
      "cell_type": "code",
      "source": [
        "a = np.random.randint(-10, 11, (4, 4))\n",
        "b = np.random.randint(-10, 11, (4, 4))\n",
        "\n",
        "print(\"A:\\n\", a, \"\\nB:\\n\", b, \"\\nA*B:\\n\", np.dot(a, b), \"\\n\")"
      ],
      "metadata": {
        "colab": {
          "base_uri": "https://localhost:8080/"
        },
        "id": "7Pi3tv6YOGlg",
        "outputId": "247f2dcb-c51d-4443-dc6e-932d8b139f3e"
      },
      "execution_count": null,
      "outputs": [
        {
          "output_type": "stream",
          "name": "stdout",
          "text": [
            "A:\n",
            " [[ 0  0 -9 -3]\n",
            " [-1 -9  5  0]\n",
            " [-6  2  7 -7]\n",
            " [ 2 -3 -8  8]] \n",
            "B:\n",
            " [[  9 -10  -5   8]\n",
            " [  5   2  -8   1]\n",
            " [  2  -6   4   4]\n",
            " [-10   7  -9   7]] \n",
            "A*B:\n",
            " [[ 12  33  -9 -57]\n",
            " [-44 -38  97   3]\n",
            " [ 40 -27 105 -67]\n",
            " [-93  78 -90  37]] \n",
            "\n"
          ]
        }
      ]
    },
    {
      "cell_type": "markdown",
      "source": [
        "### Завдання 7"
      ],
      "metadata": {
        "id": "54SBZrL2Ey4q"
      }
    },
    {
      "cell_type": "markdown",
      "source": [
        "15. Створіть дві матриці розміром 4x2 та 2x2, заповніть їх випадковими цілими числами\n",
        "в діапазоні від 1 до 3 та перемножте їх між собою."
      ],
      "metadata": {
        "id": "orOnIet69dQx"
      }
    },
    {
      "cell_type": "code",
      "source": [
        "a = np.random.randint(1, 4, (4, 2))\n",
        "b = np.random.randint(1, 4, (2, 2))\n",
        "\n",
        "print(\"A:\\n\", a, \"\\nB:\\n\", b, \"\\nA*B:\\n\", np.dot(a, b), \"\\n\")"
      ],
      "metadata": {
        "colab": {
          "base_uri": "https://localhost:8080/"
        },
        "id": "bTj8JWj6MyIP",
        "outputId": "5b67ebc1-7f77-47a3-fc33-62ec81390d23"
      },
      "execution_count": null,
      "outputs": [
        {
          "output_type": "stream",
          "name": "stdout",
          "text": [
            "A:\n",
            " [[1 2]\n",
            " [1 1]\n",
            " [2 1]\n",
            " [3 2]] \n",
            "B:\n",
            " [[3 1]\n",
            " [1 2]] \n",
            "A*B:\n",
            " [[ 5  5]\n",
            " [ 4  3]\n",
            " [ 7  4]\n",
            " [11  7]] \n",
            "\n"
          ]
        }
      ]
    },
    {
      "cell_type": "markdown",
      "source": [
        "### Завдання 8"
      ],
      "metadata": {
        "id": "OmqmC-PeE1v0"
      }
    },
    {
      "cell_type": "markdown",
      "source": [
        "15. Створіть матрицю розміром 2x2, заповніть її випадковими цілими числами в діапазоні\n",
        "від 1 до 7 та знайдіть її обернену матрицю."
      ],
      "metadata": {
        "id": "8I2_BMTp9lVP"
      }
    },
    {
      "cell_type": "code",
      "source": [
        "a = np.random.randint(1, 8, (2, 2))\n",
        "print(\"Матриця А:\\n\", a)\n",
        "\n",
        "a_inv = np.linalg.inv(a)\n",
        "print(\"\\nОбернена матриця до матриці A:\\n\", a_inv)"
      ],
      "metadata": {
        "colab": {
          "base_uri": "https://localhost:8080/"
        },
        "id": "fCLQBVaxRPYz",
        "outputId": "5e594617-7a02-4b84-b524-919057769f18"
      },
      "execution_count": null,
      "outputs": [
        {
          "output_type": "stream",
          "name": "stdout",
          "text": [
            "Матриця А:\n",
            " [[3 3]\n",
            " [3 2]]\n",
            "\n",
            "Обернена матриця до матриці A:\n",
            " [[-0.66666667  1.        ]\n",
            " [ 1.         -1.        ]]\n"
          ]
        }
      ]
    },
    {
      "cell_type": "markdown",
      "source": [
        "### Завдання 9"
      ],
      "metadata": {
        "id": "OAVu74lHE3T0"
      }
    },
    {
      "cell_type": "markdown",
      "source": [
        "15. Створіть матрицю розміром 3x5, заповніть її випадковими цілими числами в діапазоні\n",
        "від 0 до 1 та транспонуйте її."
      ],
      "metadata": {
        "id": "GyqDv1TL9oQX"
      }
    },
    {
      "cell_type": "code",
      "source": [
        "m = np.random.rand(3, 5)\n",
        "print(\"Матриця:\\n\", m)\n",
        "transposed = m.T\n",
        "\n",
        "print(\"\\nТранспонована матриця:\\n\", transposed)"
      ],
      "metadata": {
        "colab": {
          "base_uri": "https://localhost:8080/"
        },
        "id": "QcacfBNGSP1c",
        "outputId": "0b26c0a3-0faf-4507-9be1-147bd5844b19"
      },
      "execution_count": null,
      "outputs": [
        {
          "output_type": "stream",
          "name": "stdout",
          "text": [
            "Матриця:\n",
            " [[0.83087641 0.2101072  0.89491684 0.22824093 0.95860268]\n",
            " [0.34809483 0.64970082 0.08254884 0.4194874  0.165938  ]\n",
            " [0.27355704 0.24098553 0.12330926 0.3207809  0.51505662]]\n",
            "\n",
            "Транспонована матриця:\n",
            " [[0.83087641 0.34809483 0.27355704]\n",
            " [0.2101072  0.64970082 0.24098553]\n",
            " [0.89491684 0.08254884 0.12330926]\n",
            " [0.22824093 0.4194874  0.3207809 ]\n",
            " [0.95860268 0.165938   0.51505662]]\n"
          ]
        }
      ]
    },
    {
      "cell_type": "markdown",
      "source": [
        "### Завдання 10"
      ],
      "metadata": {
        "id": "L6paLDsnE4oO"
      }
    },
    {
      "cell_type": "markdown",
      "source": [
        "15. Створіть матрицю розміром 3x4 та вектор розміром 4x1, заповніть матрицю\n",
        "випадковими дійсними числами від 0 до 1, а вектор - випадковими цілими числами в\n",
        "діапазоні від 1 до 10, і знайдіть добуток матриці на вектор."
      ],
      "metadata": {
        "id": "1ncfcMm99rIq"
      }
    },
    {
      "cell_type": "code",
      "source": [
        "m = np.random.rand(3, 4)\n",
        "v = np.random.randint(1, 11, (4, 1))\n",
        "\n",
        "print(\"Матриця:\")\n",
        "print(m)\n",
        "\n",
        "print(\"\\nВектор:\")\n",
        "print(v)\n",
        "\n",
        "product = np.dot(m, v)\n",
        "\n",
        "print(\"\\nДобуток матриці на вектор:\")\n",
        "print(product)"
      ],
      "metadata": {
        "colab": {
          "base_uri": "https://localhost:8080/"
        },
        "id": "4edP4oudd5hd",
        "outputId": "9cd60c30-a76d-4ce2-b38c-4ea6cdbcde70"
      },
      "execution_count": null,
      "outputs": [
        {
          "output_type": "stream",
          "name": "stdout",
          "text": [
            "Матриця:\n",
            "[[0.42493135 0.27491416 0.57118146 0.71967599]\n",
            " [0.00348961 0.01559113 0.67069457 0.94901961]\n",
            " [0.97590183 0.02455253 0.39894626 0.69795708]]\n",
            "\n",
            "Вектор:\n",
            "[[ 4]\n",
            " [ 6]\n",
            " [10]\n",
            " [ 1]]\n",
            "\n",
            "Добуток матриці на вектор:\n",
            "[[9.78070093]\n",
            " [7.76347053]\n",
            " [8.73834225]]\n"
          ]
        }
      ]
    },
    {
      "cell_type": "markdown",
      "source": [
        "### Завдання 11"
      ],
      "metadata": {
        "id": "KC2z3pIZE6Fi"
      }
    },
    {
      "cell_type": "markdown",
      "source": [
        "15. Створіть матрицю розміром 2x3 та вектор розміром 3x1, заповніть матрицю\n",
        "випадковими дійсними числами від 0 до 1, а вектор - випадковими дійсними числами\n",
        "від 0 до 1, і знайдіть суму елементів матриці, які менше за відповідний елемент\n",
        "вектору."
      ],
      "metadata": {
        "id": "NHRTH2Bz9t1H"
      }
    },
    {
      "cell_type": "code",
      "source": [
        "m = np.random.rand(2, 3)\n",
        "v = np.random.rand(3, 1)\n",
        "\n",
        "print(\"Матриця:\")\n",
        "print(m)\n",
        "\n",
        "print(\"\\nВектор:\")\n",
        "print(v)\n",
        "\n",
        "mask = m < v.T\n",
        "sum_elements = np.sum(m[mask])\n",
        "\n",
        "print(\"\\nСума:\", sum_elements)"
      ],
      "metadata": {
        "colab": {
          "base_uri": "https://localhost:8080/"
        },
        "id": "5BYfqK7adHyU",
        "outputId": "1903847e-1891-432d-df90-e3e6c80f9f52"
      },
      "execution_count": null,
      "outputs": [
        {
          "output_type": "stream",
          "name": "stdout",
          "text": [
            "Матриця:\n",
            "[[0.19299682 0.74082065 0.10515234]\n",
            " [0.44082489 0.0733652  0.15760551]]\n",
            "\n",
            "Вектор:\n",
            "[[0.40650809]\n",
            " [0.69381691]\n",
            " [0.73231705]]\n",
            "\n",
            "Сума: 0.5291198779324708\n"
          ]
        }
      ]
    },
    {
      "cell_type": "markdown",
      "source": [
        "### Завдання 12"
      ],
      "metadata": {
        "id": "5e5SUGfOE7ME"
      }
    },
    {
      "cell_type": "markdown",
      "source": [
        "15. Створіть дві матриці розміром 8x8, заповніть їх випадковими цілими числами в\n",
        "діапазоні від 1 до 10 та знайдіть їхню суму."
      ],
      "metadata": {
        "id": "hqjBjjM89wVo"
      }
    },
    {
      "cell_type": "code",
      "source": [
        "a = np.random.randint(1, 11, (8, 8))\n",
        "b = np.random.randint(1, 11, (8, 8))\n",
        "print(\"A:\\n\", a, \"\\nB:\\n\", b)\n",
        "\n",
        "print(\"\\nСума матриць А та В:\\n\", a+b)"
      ],
      "metadata": {
        "colab": {
          "base_uri": "https://localhost:8080/"
        },
        "id": "s_jKSbXmcyAm",
        "outputId": "d293b4a2-ce7b-4f69-97f9-cf733d9e0f96"
      },
      "execution_count": null,
      "outputs": [
        {
          "output_type": "stream",
          "name": "stdout",
          "text": [
            "A:\n",
            " [[ 7 10 10  2  1  2 10  6]\n",
            " [ 2  3  6  9  7  2 10  1]\n",
            " [ 3  1 10  3 10  6  1  1]\n",
            " [10  3  3  8 10  4  6  3]\n",
            " [10  6  1  3  5  5  1  4]\n",
            " [ 5  9  1 10  3  4  1  6]\n",
            " [ 4  9 10  6  4  9  6 10]\n",
            " [ 1  3  9 10  5 10  2  6]] \n",
            "B:\n",
            " [[ 4  3 10  3  4  3  9  7]\n",
            " [ 4  1  2  9  4  3  8 10]\n",
            " [10  2  8  6  8 10  3  6]\n",
            " [10 10  7  1  5  7  4  2]\n",
            " [ 1  1  4  6  9  9 10  1]\n",
            " [ 7  8  6  6  1  5  6  2]\n",
            " [10  4  3  9  1  9  9  2]\n",
            " [ 7  3  1 10 10  4 10  6]]\n",
            "\n",
            "Сума матриць А та В:\n",
            " [[11 13 20  5  5  5 19 13]\n",
            " [ 6  4  8 18 11  5 18 11]\n",
            " [13  3 18  9 18 16  4  7]\n",
            " [20 13 10  9 15 11 10  5]\n",
            " [11  7  5  9 14 14 11  5]\n",
            " [12 17  7 16  4  9  7  8]\n",
            " [14 13 13 15  5 18 15 12]\n",
            " [ 8  6 10 20 15 14 12 12]]\n"
          ]
        }
      ]
    },
    {
      "cell_type": "markdown",
      "source": [
        "### Завдання 13"
      ],
      "metadata": {
        "id": "hAUptBZTE8bQ"
      }
    },
    {
      "cell_type": "markdown",
      "source": [
        "15. Створіть дві матриці розміром 3x3, заповніть їх випадковими дійсними числами в\n",
        "діапазоні від -1 до 1 та знайдіть добуток їх елементів."
      ],
      "metadata": {
        "id": "0xvtzqN-9y5Z"
      }
    },
    {
      "cell_type": "code",
      "source": [
        "a = np.random.uniform(-1, 1, (3, 3))\n",
        "b = np.random.uniform(-1, 1, (3, 3))\n",
        "\n",
        "print(\"Перша матриця:\")\n",
        "print(a)\n",
        "\n",
        "print(\"\\nДруга матриця:\")\n",
        "print(b)\n",
        "\n",
        "product_matrix = a * b\n",
        "\n",
        "print(\"\\nДобуток відповідних елементів матриць:\")\n",
        "print(product_matrix)"
      ],
      "metadata": {
        "colab": {
          "base_uri": "https://localhost:8080/"
        },
        "id": "uvzQ_Sc8b-up",
        "outputId": "c92b6786-2b81-4946-8fbd-6bf90400aadb"
      },
      "execution_count": null,
      "outputs": [
        {
          "output_type": "stream",
          "name": "stdout",
          "text": [
            "Перша матриця:\n",
            "[[-0.73652444  0.50375695  0.11855607]\n",
            " [ 0.04481288 -0.41816389  0.3046771 ]\n",
            " [-0.7621621  -0.13040985  0.79866163]]\n",
            "\n",
            "Друга матриця:\n",
            "[[ 0.46632154  0.29373115  0.36946013]\n",
            " [ 0.56083615  0.62765076  0.74114764]\n",
            " [-0.81431399  0.47600199  0.16097522]]\n",
            "\n",
            "Добуток відповідних елементів матриць:\n",
            "[[-0.34345721  0.14796911  0.04380174]\n",
            " [ 0.02513268 -0.26246088  0.22581071]\n",
            " [ 0.62063926 -0.06207535  0.12856473]]\n"
          ]
        }
      ]
    },
    {
      "cell_type": "markdown",
      "source": [
        "### Завдання 14"
      ],
      "metadata": {
        "id": "Q_-H4gPaE9oI"
      }
    },
    {
      "cell_type": "markdown",
      "source": [
        "15. Створіть матрицю розміром 3x3, заповніть її випадковими дійсними числами в\n",
        "діапазоні від -5 до 5 та знайдіть добуток елементів матриці, які більше за їх середнє\n",
        "арифметичне значення."
      ],
      "metadata": {
        "id": "X6M2Y18R91Id"
      }
    },
    {
      "cell_type": "code",
      "source": [
        "m = np.random.uniform(-5, 5, (3, 3))\n",
        "\n",
        "print(\"Матриця:\")\n",
        "print(m)\n",
        "\n",
        "mean_value = np.mean(m)\n",
        "print(\"\\nСереднє арифметичне матриці:\", mean_value)\n",
        "\n",
        "elements_above_mean = m[m > mean_value]\n",
        "print(\"\\nЕлементи матриці, більші за середнє:\", elements_above_mean)\n",
        "\n",
        "product = np.prod(elements_above_mean)\n",
        "print(\"\\nДобуток елементів, більших за середнє:\", product)"
      ],
      "metadata": {
        "colab": {
          "base_uri": "https://localhost:8080/"
        },
        "id": "HnRUkbtqa6wj",
        "outputId": "b2daf121-bbd0-4220-badb-bc1c024755f0"
      },
      "execution_count": null,
      "outputs": [
        {
          "output_type": "stream",
          "name": "stdout",
          "text": [
            "Матриця:\n",
            "[[ 0.29306038 -1.06634469 -3.81213283]\n",
            " [ 2.46604501 -3.63579196 -3.18191919]\n",
            " [-3.27738501 -3.4738574   4.12931588]]\n",
            "\n",
            "Середнє арифметичне матриці: -1.284334423032684\n",
            "\n",
            "Елементи матриці, більші за середнє: [ 0.29306038 -1.06634469  2.46604501  4.12931588]\n",
            "\n",
            "Добуток елементів, більших за середнє: -3.182246548524109\n"
          ]
        }
      ]
    },
    {
      "cell_type": "markdown",
      "source": [
        "### Завдання 15"
      ],
      "metadata": {
        "id": "llIgKzFjE-zY"
      }
    },
    {
      "cell_type": "markdown",
      "source": [
        "15. Створіть матрицю розміром 3x3, заповніть її випадковими дійсними числами в\n",
        "діапазоні від -0.5 до 0.5 та знайдіть вектор-стовпчик, що містить найбільше за модулем\n",
        "ціле значення в кожному рядку матриці."
      ],
      "metadata": {
        "id": "JGvJEM6J93Ne"
      }
    },
    {
      "cell_type": "code",
      "source": [
        "m = np.random.uniform(-0.5, 0.5, (3, 3))\n",
        "print(\"Матриця:\\n\", m)\n",
        "\n",
        "rounded_matrix = np.rint(m).astype(int)\n",
        "print(\"\\nМатриця, округлена до цілих чисел:\")\n",
        "print(rounded_matrix)\n",
        "\n",
        "max_abs_vector = np.array([row[np.argmax(np.abs(row))] for row in rounded_matrix]).reshape(3, 1)\n",
        "\n",
        "print(\"\\nВектор-стовпчик з найбільшими за модулем цілими числами по рядках:\")\n",
        "print(max_abs_vector)"
      ],
      "metadata": {
        "colab": {
          "base_uri": "https://localhost:8080/"
        },
        "id": "ExqsCIEZWsXF",
        "outputId": "7b363bed-660d-41b6-baa8-6da347d6786c"
      },
      "execution_count": null,
      "outputs": [
        {
          "output_type": "stream",
          "name": "stdout",
          "text": [
            "Матриця:\n",
            " [[-0.00385505 -0.16046542 -0.18541088]\n",
            " [ 0.49338067  0.33977377  0.18220889]\n",
            " [ 0.15391243  0.43527412  0.45773597]]\n",
            "\n",
            "Матриця, округлена до цілих чисел:\n",
            "[[0 0 0]\n",
            " [0 0 0]\n",
            " [0 0 0]]\n",
            "\n",
            "Вектор-стовпчик з найбільшими за модулем цілими числами по рядках:\n",
            "[[0]\n",
            " [0]\n",
            " [0]]\n"
          ]
        }
      ]
    },
    {
      "cell_type": "code",
      "source": [],
      "metadata": {
        "id": "lR1qnaYhHmWt"
      },
      "execution_count": null,
      "outputs": []
    }
  ]
}